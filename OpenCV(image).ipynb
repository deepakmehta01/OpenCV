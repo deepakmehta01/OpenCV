{
 "cells": [
  {
   "cell_type": "code",
   "execution_count": 1,
   "id": "bda31ca1",
   "metadata": {},
   "outputs": [],
   "source": [
    "import cv2\n",
    "import numpy as np"
   ]
  },
  {
   "cell_type": "code",
   "execution_count": 2,
   "id": "2838abba",
   "metadata": {},
   "outputs": [],
   "source": [
    "img = cv2.imread(\"modi.jpg\")"
   ]
  },
  {
   "cell_type": "markdown",
   "id": "6301306d",
   "metadata": {},
   "source": [
    "## Images as a numpy array"
   ]
  },
  {
   "cell_type": "code",
   "execution_count": 3,
   "id": "844c36c9",
   "metadata": {},
   "outputs": [
    {
     "name": "stdout",
     "output_type": "stream",
     "text": [
      "[[[255 255 255]\n",
      "  [255 255 255]\n",
      "  [255 255 255]\n",
      "  ...\n",
      "  [255 255 255]\n",
      "  [255 255 255]\n",
      "  [255 255 255]]\n",
      "\n",
      " [[255 255 255]\n",
      "  [255 255 255]\n",
      "  [255 255 255]\n",
      "  ...\n",
      "  [255 255 255]\n",
      "  [255 255 255]\n",
      "  [255 255 255]]\n",
      "\n",
      " [[255 255 255]\n",
      "  [255 255 255]\n",
      "  [255 255 255]\n",
      "  ...\n",
      "  [255 255 255]\n",
      "  [255 255 255]\n",
      "  [255 255 255]]\n",
      "\n",
      " ...\n",
      "\n",
      " [[255 255 255]\n",
      "  [255 255 255]\n",
      "  [255 255 255]\n",
      "  ...\n",
      "  [255 255 255]\n",
      "  [255 255 255]\n",
      "  [255 255 255]]\n",
      "\n",
      " [[255 255 255]\n",
      "  [255 255 255]\n",
      "  [255 255 255]\n",
      "  ...\n",
      "  [255 255 255]\n",
      "  [255 255 255]\n",
      "  [255 255 255]]\n",
      "\n",
      " [[255 255 255]\n",
      "  [255 255 255]\n",
      "  [255 255 255]\n",
      "  ...\n",
      "  [255 255 255]\n",
      "  [255 255 255]\n",
      "  [255 255 255]]]\n"
     ]
    }
   ],
   "source": [
    "print(img)"
   ]
  },
  {
   "cell_type": "markdown",
   "id": "bf202798",
   "metadata": {},
   "source": [
    " This is stored as a 3D numpy array because we stored a color image inside the img variable"
   ]
  },
  {
   "cell_type": "markdown",
   "id": "666b905e",
   "metadata": {},
   "source": [
    "### Display the image"
   ]
  },
  {
   "cell_type": "code",
   "execution_count": 4,
   "id": "1eeaa360",
   "metadata": {},
   "outputs": [],
   "source": [
    "cv2.imshow(\"PM\",img)\n",
    "cv2.waitKey()\n",
    "cv2.destroyAllWindows()"
   ]
  },
  {
   "cell_type": "markdown",
   "id": "69926b47",
   "metadata": {},
   "source": [
    "This will display the image "
   ]
  },
  {
   "cell_type": "markdown",
   "id": "66bd02d8",
   "metadata": {},
   "source": [
    "#### Save the image"
   ]
  },
  {
   "cell_type": "code",
   "execution_count": 5,
   "id": "4ca2094b",
   "metadata": {},
   "outputs": [
    {
     "data": {
      "text/plain": [
       "True"
      ]
     },
     "execution_count": 5,
     "metadata": {},
     "output_type": "execute_result"
    }
   ],
   "source": [
    "cv2.imwrite(\"namo.png\",img)"
   ]
  },
  {
   "cell_type": "markdown",
   "id": "9c7debf7",
   "metadata": {},
   "source": [
    "### Resize the image"
   ]
  },
  {
   "cell_type": "code",
   "execution_count": 6,
   "id": "e6ffa17f",
   "metadata": {},
   "outputs": [],
   "source": [
    "img = cv2.imread(\"modi.jpg\")\n",
    "resize_img = cv2.resize(img,(500,500))\n",
    "\n",
    "cv2.imshow(\"PM\",resize_img)\n",
    "cv2.waitKey()\n",
    "cv2.destroyAllWindows()"
   ]
  },
  {
   "cell_type": "markdown",
   "id": "58492acd",
   "metadata": {},
   "source": [
    "### Face Detection using HAAR Cascade Classifier"
   ]
  },
  {
   "cell_type": "code",
   "execution_count": 20,
   "id": "ca4b0a3a",
   "metadata": {},
   "outputs": [],
   "source": [
    "face_classifier = cv2.CascadeClassifier(\"Haarcascades/haarcascade_frontalface_default.xml\")\n",
    "\n",
    "image = cv2.imread(\"Modi.jpg\")\n",
    "\n",
    "resize_img = cv2.resize(image,(500,500))\n",
    "\n",
    "gray = cv2.cvtColor(resize_img,cv2.COLOR_BGR2GRAY)\n",
    "\n",
    "faces = face_classifier.detectMultiScale(gray,1.05,5)"
   ]
  },
  {
   "cell_type": "code",
   "execution_count": 21,
   "id": "4e3167b3",
   "metadata": {},
   "outputs": [
    {
     "name": "stdout",
     "output_type": "stream",
     "text": [
      "[[205  79 217 217]]\n"
     ]
    }
   ],
   "source": [
    "print(faces)"
   ]
  },
  {
   "cell_type": "code",
   "execution_count": 25,
   "id": "5002d6c8",
   "metadata": {},
   "outputs": [
    {
     "name": "stderr",
     "output_type": "stream",
     "text": [
      "<>:1: SyntaxWarning: \"is\" with a literal. Did you mean \"==\"?\n",
      "<>:1: SyntaxWarning: \"is\" with a literal. Did you mean \"==\"?\n",
      "C:\\Users\\Deepak Mehta\\AppData\\Local\\Temp\\ipykernel_14988\\4049081728.py:1: SyntaxWarning: \"is\" with a literal. Did you mean \"==\"?\n",
      "  if faces is ():\n"
     ]
    }
   ],
   "source": [
    "if faces is ():\n",
    "    print(\"No faces found\")\n",
    "    \n",
    "for (x,y,w,h) in faces:\n",
    "    cv2.rectangle(resize_img,(x,y),(x+w,y+h),(0,0,255),3)\n",
    "    \n",
    "    \n",
    "cv2.imshow(\"PM\",resize_img)    \n",
    "cv2.waitKey()\n",
    "cv2.destroyAllWindows()"
   ]
  },
  {
   "cell_type": "markdown",
   "id": "17ebbeef",
   "metadata": {},
   "source": [
    "### Face and eye HAAR cascade classifier"
   ]
  },
  {
   "cell_type": "code",
   "execution_count": 42,
   "id": "ffedc736",
   "metadata": {},
   "outputs": [],
   "source": [
    "face_classifier = cv2.CascadeClassifier(\"Haarcascades/haarcascade_frontalface_default.xml\")\n",
    "# eye_classifier  = cv2.CascadeClassifier(\"Haarcascade/haarcascade_eye.xml\")\n",
    "eye_classifier  = cv2.CascadeClassifier(cv2.data.haarcascades + \"haarcascade_eye.xml\")\n",
    "\n"
   ]
  },
  {
   "cell_type": "code",
   "execution_count": 43,
   "id": "f3e4ab82",
   "metadata": {},
   "outputs": [],
   "source": [
    "image = cv2.imread(\"Modi.jpg\")\n",
    "resize_img = cv2.resize(image,(500,500))\n",
    "gray = cv2.cvtColor(resize_img,cv2.COLOR_BGR2GRAY)"
   ]
  },
  {
   "cell_type": "code",
   "execution_count": 44,
   "id": "9049daea",
   "metadata": {},
   "outputs": [],
   "source": [
    "faces = face_classifier.detectMultiScale(gray,1.3,5)\n"
   ]
  },
  {
   "cell_type": "code",
   "execution_count": 45,
   "id": "5c301d61",
   "metadata": {},
   "outputs": [
    {
     "name": "stdout",
     "output_type": "stream",
     "text": [
      "[[205  80 216 216]]\n"
     ]
    }
   ],
   "source": [
    "print(faces)"
   ]
  },
  {
   "cell_type": "code",
   "execution_count": 48,
   "id": "075b9c91",
   "metadata": {},
   "outputs": [
    {
     "name": "stderr",
     "output_type": "stream",
     "text": [
      "<>:1: SyntaxWarning: \"is\" with a literal. Did you mean \"==\"?\n",
      "<>:1: SyntaxWarning: \"is\" with a literal. Did you mean \"==\"?\n",
      "C:\\Users\\Deepak Mehta\\AppData\\Local\\Temp\\ipykernel_14988\\3280599139.py:1: SyntaxWarning: \"is\" with a literal. Did you mean \"==\"?\n",
      "  if faces is ():\n"
     ]
    }
   ],
   "source": [
    "\n",
    "if faces is ():\n",
    "    print(\"No faces found\")\n",
    "    \n",
    "for (x,y,w,h) in faces:\n",
    "    cv2.rectangle(resize_img,(x,y),(x+w,y+h),(0,0,255),3)\n",
    "    roi_gray = gray[y:y+h, x:x+w]\n",
    "    roi_color = resize_img[y:y+h,x:x+w]\n",
    "    \n",
    "    eyes = eye_classifier.detectMultiScale(roi_gray)\n",
    "    \n",
    "    for (ex,ey,ew,eh) in eyes:\n",
    "        cv2.rectangle(roi_color,(ex,ey),(ex+ew,ey+eh),(0,25,0),2)\n",
    "    \n",
    "    \n",
    "cv2.imshow(\"PM\",resize_img)    \n",
    "cv2.waitKey()\n",
    "cv2.destroyAllWindows()\n"
   ]
  },
  {
   "cell_type": "code",
   "execution_count": 39,
   "id": "d4803f80",
   "metadata": {},
   "outputs": [],
   "source": [
    "cv2.imshow(\"PM\",roi_color)\n",
    "cv2.waitKey()\n",
    "cv2.destroyAllWindows()"
   ]
  },
  {
   "cell_type": "code",
   "execution_count": null,
   "id": "309b19f7",
   "metadata": {},
   "outputs": [],
   "source": []
  },
  {
   "cell_type": "code",
   "execution_count": 59,
   "id": "8b1f8a18",
   "metadata": {},
   "outputs": [
    {
     "name": "stderr",
     "output_type": "stream",
     "text": [
      "<>:12: SyntaxWarning: \"is\" with a literal. Did you mean \"==\"?\n",
      "<>:12: SyntaxWarning: \"is\" with a literal. Did you mean \"==\"?\n",
      "C:\\Users\\Deepak Mehta\\AppData\\Local\\Temp\\ipykernel_14988\\1150531875.py:12: SyntaxWarning: \"is\" with a literal. Did you mean \"==\"?\n",
      "  if faces is ():\n"
     ]
    }
   ],
   "source": [
    "face_classifier = cv2.CascadeClassifier(\"Haarcascades/haarcascade_frontalface_default.xml\")\n",
    "# eye_classifier  = cv2.CascadeClassifier(\"Haarcascade/haarcascade_eye.xml\")\n",
    "eye_classifier  = cv2.CascadeClassifier(cv2.data.haarcascades + \"haarcascade_eye.xml\")\n",
    "\n",
    "image = cv2.imread(\"modi.jpg\")\n",
    "resize_img = cv2.resize(image,(500,500))\n",
    "gray = cv2.cvtColor(resize_img,cv2.COLOR_BGR2GRAY)\n",
    "\n",
    "faces = face_classifier.detectMultiScale(gray,1.3,5)\n",
    "\n",
    "\n",
    "if faces is ():\n",
    "    print(\"No faces found\")\n",
    "    \n",
    "for (x,y,w,h) in faces:\n",
    "    cv2.rectangle(resize_img,(x,y),(x+w,y+h),(0,0,255),3)\n",
    "    roi_gray = gray[y:y+h, x:x+w]\n",
    "    roi_color = resize_img[y:y+h,x:x+w]\n",
    "    \n",
    "    eyes = eye_classifier.detectMultiScale(roi_gray)\n",
    "    \n",
    "    for (ex,ey,ew,eh) in eyes:\n",
    "        cv2.rectangle(roi_color,(ex,ey),(ex+ew,ey+eh),(0,255,255),2)\n",
    "    \n",
    "    \n",
    "cv2.imshow(\"PM\",resize_img)    \n",
    "cv2.waitKey()\n",
    "cv2.destroyAllWindows()\n",
    "\n"
   ]
  },
  {
   "cell_type": "code",
   "execution_count": null,
   "id": "7eacc550",
   "metadata": {},
   "outputs": [],
   "source": []
  },
  {
   "cell_type": "code",
   "execution_count": null,
   "id": "b1b8fdf3",
   "metadata": {},
   "outputs": [],
   "source": []
  },
  {
   "cell_type": "code",
   "execution_count": null,
   "id": "73af0955",
   "metadata": {},
   "outputs": [],
   "source": []
  }
 ],
 "metadata": {
  "kernelspec": {
   "display_name": "Python 3 (ipykernel)",
   "language": "python",
   "name": "python3"
  },
  "language_info": {
   "codemirror_mode": {
    "name": "ipython",
    "version": 3
   },
   "file_extension": ".py",
   "mimetype": "text/x-python",
   "name": "python",
   "nbconvert_exporter": "python",
   "pygments_lexer": "ipython3",
   "version": "3.10.2"
  }
 },
 "nbformat": 4,
 "nbformat_minor": 5
}
