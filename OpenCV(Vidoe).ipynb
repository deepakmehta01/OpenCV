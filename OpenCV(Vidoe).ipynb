{
 "cells": [
  {
   "cell_type": "markdown",
   "id": "cc6afb88",
   "metadata": {},
   "source": [
    "## Capture a video"
   ]
  },
  {
   "cell_type": "code",
   "execution_count": 1,
   "id": "38c6bb39",
   "metadata": {},
   "outputs": [],
   "source": [
    "import cv2"
   ]
  },
  {
   "cell_type": "code",
   "execution_count": 2,
   "id": "f30ead53",
   "metadata": {},
   "outputs": [],
   "source": [
    "# 0 -- this will open the webcam\n",
    "video = cv2.VideoCapture(0)\n",
    "\n",
    "\n",
    "while True:\n",
    "    check,frame = video.read() #check will store the sequence of the images and frame will store the images\n",
    "    cv2.imshow(\"Video\",frame)\n",
    "    if cv2.waitKey(1) == ord('q'):\n",
    "        break\n",
    "    \n",
    "video.release()\n",
    "    \n",
    "cv2.destroyAllWindows()    "
   ]
  },
  {
   "cell_type": "markdown",
   "id": "634ccddf",
   "metadata": {},
   "source": [
    "## Defining a function which will detect the face and eyes"
   ]
  },
  {
   "cell_type": "code",
   "execution_count": 3,
   "id": "6fb5fb46",
   "metadata": {},
   "outputs": [],
   "source": [
    "face_cascade = cv2.CascadeClassifier(cv2.data.haarcascades + 'haarcascade_frontalface_default.xml')\n",
    "eye_cascade  = cv2.CascadeClassifier(cv2.data.haarcascades + \"haarcascade_eye.xml\")\n"
   ]
  },
  {
   "cell_type": "code",
   "execution_count": 4,
   "id": "c8ebf645",
   "metadata": {},
   "outputs": [],
   "source": [
    "# face_cascade = cv2.CascadeClassifier(\"Haarcascade/haarcascade_frontalface_default.xml\")\n",
    "# eye_cascade = cv2.CascadeClassifier(\"Haarcascade/haarcascade_eye.xml\")\n",
    "\n",
    "\n",
    "def detect(gray,frame):\n",
    "    faces = face_cascade.detectMultiScale(gray, 1.3, 5)\n",
    "    for (x,y,w,h) in faces:\n",
    "        cv2.rectangle(frame,(x,y),(x+w,y+h),(0,0,255),3)\n",
    "        crop_gray = gray[y:y+h,x:x+w]\n",
    "        crop_color = frame[y:y+h,x:x+w]\n",
    "        eyes = eye_cascade.detectMultiScale(crop_gray,1.1,5)\n",
    "        for (ex,ey,ew,eh) in eyes:\n",
    "            cv2.rectangle(crop_color,(ex,ey),(ex+ew,ey+eh),(0,255,255),2)\n",
    "     \n",
    "    return frame\n",
    "\n",
    "\n",
    "\n",
    "\n",
    "\n",
    "\n",
    "    "
   ]
  },
  {
   "cell_type": "code",
   "execution_count": 5,
   "id": "c4d1f40b",
   "metadata": {},
   "outputs": [],
   "source": [
    "#doing face recognition with web cam\n",
    "\n",
    "video = cv2.VideoCapture(0)\n",
    "\n",
    "while True:\n",
    "    check,frame = video.read()\n",
    "    gray = cv2.cvtColor(frame,cv2.COLOR_BGR2GRAY)\n",
    "    canvas = detect(gray,frame)\n",
    "    cv2.imshow(\"Video\",canvas)\n",
    "    if cv2.waitKey(1) == ord('q'):\n",
    "        break\n",
    "\n",
    "            \n",
    "video.release()\n",
    "\n",
    "cv2.destroyAllWindows()\n",
    "\n",
    "\n"
   ]
  },
  {
   "cell_type": "markdown",
   "id": "bab782a3",
   "metadata": {},
   "source": [
    "## Full body cascade classsifier"
   ]
  },
  {
   "cell_type": "code",
   "execution_count": 8,
   "id": "9477a9cf",
   "metadata": {},
   "outputs": [],
   "source": [
    "body_cascade = cv2.CascadeClassifier(cv2.data.haarcascades+\"haarcascade_fullbody.xml\")\n",
    "\n",
    "\n",
    "cap = cv2.VideoCapture(\"walking.avi\")\n",
    "\n",
    "while cap.isOpened():\n",
    "    check,frame = cap.read()\n",
    "    gray = cv2.cvtColor(frame,cv2.COLOR_BGR2GRAY)\n",
    "    \n",
    "    bodies = body_cascade.detectMultiScale(gray,1.2,2)\n",
    "    \n",
    "    for (x,y,w,h) in bodies:\n",
    "        cv2.rectangle(frame,(x,y),(x+w,y+h),(0,0,255),2)\n",
    "        cv2.imshow(\"Video\",frame)\n",
    "        \n",
    "    if cv2.waitKey(1) == ord('q'):\n",
    "            break\n",
    "            \n",
    "cap.release()    \n",
    "cv2.destroyAllWindows()"
   ]
  },
  {
   "cell_type": "markdown",
   "id": "c02da447",
   "metadata": {},
   "source": [
    "## Cars cascade classifier"
   ]
  },
  {
   "cell_type": "code",
   "execution_count": 19,
   "id": "e28d9b92",
   "metadata": {},
   "outputs": [],
   "source": [
    "import time\n",
    "car_cascade = cv2.CascadeClassifier(\"Haarcascades/haarcascade_car.xml\")"
   ]
  },
  {
   "cell_type": "code",
   "execution_count": null,
   "id": "25512951",
   "metadata": {},
   "outputs": [],
   "source": [
    "\n",
    "video = cv2.VideoCapture(\"cars.avi\")\n",
    "\n",
    "while video.isOpened():\n",
    "    time.sleep(.05)\n",
    "    check,frame = video.read()\n",
    "    gray = cv2.cvtColor(frame,cv2.COLOR_BGR2GRAY)\n",
    "    cars = car_cascade.detectMultiScale(gray,1.4,2)\n",
    "    for (x,y,w,h) in cars:\n",
    "        cv2.rectangle(frame,(x,y),(x+w,y+h),(0,0,255),2)\n",
    "    if cv2.waitKey(1) == ord('q'):\n",
    "        break\n",
    "        \n",
    "video.release() \n",
    "cv2.destroyAllWindows()\n",
    "        \n",
    "    \n",
    "    \n",
    "    "
   ]
  },
  {
   "cell_type": "code",
   "execution_count": null,
   "id": "ae77b7bd",
   "metadata": {},
   "outputs": [],
   "source": []
  },
  {
   "cell_type": "code",
   "execution_count": null,
   "id": "834e2e97",
   "metadata": {},
   "outputs": [],
   "source": []
  },
  {
   "cell_type": "code",
   "execution_count": null,
   "id": "3c619835",
   "metadata": {},
   "outputs": [],
   "source": []
  }
 ],
 "metadata": {
  "kernelspec": {
   "display_name": "Python 3 (ipykernel)",
   "language": "python",
   "name": "python3"
  },
  "language_info": {
   "codemirror_mode": {
    "name": "ipython",
    "version": 3
   },
   "file_extension": ".py",
   "mimetype": "text/x-python",
   "name": "python",
   "nbconvert_exporter": "python",
   "pygments_lexer": "ipython3",
   "version": "3.10.2"
  }
 },
 "nbformat": 4,
 "nbformat_minor": 5
}
